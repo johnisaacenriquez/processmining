{
 "cells": [
  {
   "cell_type": "markdown",
   "metadata": {},
   "source": [
    "### 1. Import Packages"
   ]
  },
  {
   "cell_type": "code",
   "execution_count": 1,
   "metadata": {},
   "outputs": [],
   "source": [
    "import numpy as np\n",
    "from datetime import datetime, date, time, timedelta\n",
    "import pandas as pd\n",
    "import copy\n",
    "import random\n",
    "from random import randrange\n",
    "from copy import deepcopy\n",
    "from process_mining import calculate_alignment_fitness, calculate_time_fitness, make_logarray\n",
    "from process_model import make_process_model, make_process_model_list\n",
    "from caseid import make_initial_caseid, make_candidate_caseid"
   ]
  },
  {
   "cell_type": "markdown",
   "metadata": {},
   "source": [
    "### 2. Define Input Parameters"
   ]
  },
  {
   "cell_type": "code",
   "execution_count": 2,
   "metadata": {},
   "outputs": [
    {
     "data": {
      "text/plain": [
       "{'model_1': ['A', 'C', 'X'],\n",
       " 'model_2': ['A', 'B', 'C', 'X'],\n",
       " 'model_3': ['A', 'B', 'D', 'X']}"
      ]
     },
     "execution_count": 2,
     "metadata": {},
     "output_type": "execute_result"
    }
   ],
   "source": [
    "# Define event\n",
    "event = [\"A\", \"A\", \"B\", \"B\", \"C\", \"D\", \"A\", \"C\"]\n",
    "# Define process model\n",
    "process_model = make_process_model()\n",
    "process_model2 = make_process_model_list()\n",
    "process_model"
   ]
  },
  {
   "cell_type": "markdown",
   "metadata": {},
   "source": [
    "### 3. Generate Initial Case ID and Calculate Fitness"
   ]
  },
  {
   "cell_type": "code",
   "execution_count": 3,
   "metadata": {},
   "outputs": [
    {
     "name": "stdout",
     "output_type": "stream",
     "text": [
      "Current Case ID :  [1, 2, 2, 2, 1, 2, 3, 3] fa =  0.0 ft =  0.3\n"
     ]
    }
   ],
   "source": [
    "# Generate Case ID\n",
    "caseid = make_initial_caseid(event, process_model)\n",
    "\n",
    "# Make logarray from Case ID\n",
    "logarray = make_logarray(caseid)\n",
    "\n",
    "# Calculate fitnesss scores\n",
    "fa = calculate_alignment_fitness(logarray, process_model2)\n",
    "ft = calculate_time_fitness(logarray)\n",
    "\n",
    "print(\"Current Case ID : \", caseid, \"fa = \", fa, \"ft = \", ft)"
   ]
  },
  {
   "cell_type": "markdown",
   "metadata": {},
   "source": [
    "### 4. Make Candidate Case ID  and Calculate Fitness"
   ]
  },
  {
   "cell_type": "code",
   "execution_count": 4,
   "metadata": {},
   "outputs": [
    {
     "name": "stdout",
     "output_type": "stream",
     "text": [
      "Candidate Case ID :  [1, 2, 2, 1, 2, 1, 3, 3] fa_candidate =  0.0 ft_candidate =  2.813\n"
     ]
    }
   ],
   "source": [
    "iter = 2\n",
    "caseid_current = caseid\n",
    "caseid_candidate = make_candidate_caseid(event,process_model, caseid_current, iter)\n",
    "\n",
    "# Make logarray from Case ID\n",
    "logarray = make_logarray(caseid_candidate)\n",
    "\n",
    "# Calculate fitnesss scores\n",
    "fa_candidate = calculate_alignment_fitness(logarray, process_model2)\n",
    "ft_candidate = calculate_time_fitness(logarray)\n",
    "\n",
    "print(\"Candidate Case ID : \", caseid_candidate, \"fa_candidate = \", fa_candidate, \"ft_candidate = \", ft_candidate)"
   ]
  },
  {
   "cell_type": "markdown",
   "metadata": {},
   "source": [
    "### 5. Selection Criteria in Accepting Cadidate Case ID"
   ]
  },
  {
   "cell_type": "code",
   "execution_count": 5,
   "metadata": {},
   "outputs": [
    {
     "name": "stdout",
     "output_type": "stream",
     "text": [
      "Candidate Case ID is not Accepted\n"
     ]
    }
   ],
   "source": [
    "if fa_candidate < fa:\n",
    "    caseid = caseid_current\n",
    "    print(\"Candidate Case ID is Accepted since fa_candidate < fa\")\n",
    "elif fa_candidate == fa:\n",
    "    if ft_candidate < ft: \n",
    "        caseid = caseid_current\n",
    "        print(\"Candidate Case ID is Accepted since ft_candidate < ft\")\n",
    "    else:\n",
    "        print(\"Candidate Case ID is not Accepted\")\n",
    "elif fa_candidate > fa:\n",
    "    print(\"Candidate Case ID is not Accepted\")\n"
   ]
  },
  {
   "cell_type": "markdown",
   "metadata": {},
   "source": [
    "### 6. Selection Criteria with Simulated Annealing"
   ]
  },
  {
   "cell_type": "code",
   "execution_count": 6,
   "metadata": {},
   "outputs": [],
   "source": [
    "# Define Energy Cost Function\n",
    "if fa_candidate > fa:\n",
    "    fc = fa_candidate - fa\n",
    "else:\n",
    "    fc = ft_candidate - ft\n",
    "\n",
    "# metropolis acceptance criterion\n",
    "t = 1\n",
    "p = np.exp(-fc / t)"
   ]
  },
  {
   "cell_type": "code",
   "execution_count": 7,
   "metadata": {},
   "outputs": [
    {
     "name": "stdout",
     "output_type": "stream",
     "text": [
      "0.038084243162511466 0.0810247998648126\n",
      "Candidate Case ID is not Accepted\n"
     ]
    }
   ],
   "source": [
    "random_number = random.uniform(0, 1)\n",
    "\n",
    "if fa_candidate < fa:\n",
    "    caseid = caseid_current\n",
    "    print(\"Candidate Case ID is Accepted since fa_candidate < fa\")\n",
    "elif fa_candidate == fa:\n",
    "    print(random_number, p)\n",
    "    if ft_candidate < ft or random_number > p:\n",
    "        caseid = caseid_current\n",
    "        print(random_number, p)\n",
    "        print(\"Candidate Case ID is Accepted since ft_candidate < ft\")\n",
    "    else:\n",
    "        print(\"Candidate Case ID is not Accepted\")\n",
    "elif fa_candidate > fa and random_number > p:\n",
    "    print(random_number, p)\n",
    "    caseid = caseid_current\n",
    "    print(\"Candidate Case ID Accepted\")\n",
    "else:\n",
    "    print(random_number, p)\n",
    "    print(\"Candidate Case ID is not Accepted\")"
   ]
  },
  {
   "cell_type": "markdown",
   "metadata": {},
   "source": [
    "### 7. Iterate the Procedure"
   ]
  },
  {
   "cell_type": "code",
   "execution_count": 8,
   "metadata": {},
   "outputs": [
    {
     "name": "stdout",
     "output_type": "stream",
     "text": [
      "Current Case ID :  [1, 2, 1, 2, 2, 1, 3, 3] fa =  0.0 ft =  4.062\n"
     ]
    }
   ],
   "source": [
    "# Generate Case ID\n",
    "caseid = make_initial_caseid(event, process_model)\n",
    "\n",
    "# Make logarray from Case ID\n",
    "logarray = make_logarray(caseid)\n",
    "\n",
    "# Calculate fitnesss scores\n",
    "fa = calculate_alignment_fitness(logarray, process_model2)\n",
    "ft = calculate_time_fitness(logarray)\n",
    "\n",
    "print(\"Current Case ID : \", caseid, \"fa = \", fa, \"ft = \", ft)"
   ]
  },
  {
   "cell_type": "code",
   "execution_count": 9,
   "metadata": {},
   "outputs": [
    {
     "name": "stdout",
     "output_type": "stream",
     "text": [
      "Iter 2\n",
      "Current Case ID :  [1, 2, 1, 2, 2, 1, 3, 3] fa =  0.0 ft =  4.062\n",
      "Candidate Case ID :  [1, 2, 2, 2, 2, 1, 3, 3] fa_candidate =  2.0 ft_candidate =  4.062\n",
      "Candidate Case ID Accepted Randomly\n",
      "Current Case ID :  [1, 2, 2, 2, 2, 1, 3, 3] fa =  2.0 ft =  4.062\n",
      "Iter 3\n",
      "Current Case ID :  [1, 2, 2, 2, 2, 1, 3, 3] fa =  2.0 ft =  4.062\n",
      "Candidate Case ID :  [1, 2, 2, 2, 1, 2, 3, 3] fa_candidate =  0.0 ft_candidate =  0.3\n",
      "Candidate Case ID is Accepted since fa_candidate < fa\n",
      "Current Case ID :  [1, 2, 2, 2, 1, 2, 3, 3] fa =  0.0 ft =  0.3\n",
      "Iter 4\n",
      "Current Case ID :  [1, 2, 2, 2, 1, 2, 3, 3] fa =  0.0 ft =  0.3\n",
      "Candidate Case ID :  [1, 2, 2, 2, 1, 2, 3, 3] fa_candidate =  0.0 ft_candidate =  0.3\n",
      "Candidate Case ID is not Accepted\n",
      "Current Case ID :  [1, 2, 2, 2, 1, 2, 3, 3] fa =  0.0 ft =  0.3\n",
      "Iter 5\n",
      "Current Case ID :  [1, 2, 2, 2, 1, 2, 3, 3] fa =  0.0 ft =  0.3\n",
      "Candidate Case ID :  [1, 2, 2, 2, 1, 2, 3, 3] fa_candidate =  0.0 ft_candidate =  0.3\n",
      "Candidate Case ID is not Accepted\n",
      "Current Case ID :  [1, 2, 2, 2, 1, 2, 3, 3] fa =  0.0 ft =  0.3\n",
      "Iter 6\n",
      "Current Case ID :  [1, 2, 2, 2, 1, 2, 3, 3] fa =  0.0 ft =  0.3\n",
      "Candidate Case ID :  [1, 2, 2, 2, 1, 2, 3, 3] fa_candidate =  0.0 ft_candidate =  0.3\n",
      "Candidate Case ID is not Accepted\n",
      "Current Case ID :  [1, 2, 2, 2, 1, 2, 3, 3] fa =  0.0 ft =  0.3\n",
      "Iter 7\n",
      "Current Case ID :  [1, 2, 2, 2, 1, 2, 3, 3] fa =  0.0 ft =  0.3\n",
      "Candidate Case ID :  [1, 2, 2, 2, 1, 2, 3, 3] fa_candidate =  0.0 ft_candidate =  0.3\n",
      "Candidate Case ID is not Accepted\n",
      "Current Case ID :  [1, 2, 2, 2, 1, 2, 3, 3] fa =  0.0 ft =  0.3\n",
      "Iter 8\n",
      "Current Case ID :  [1, 2, 2, 2, 1, 2, 3, 3] fa =  0.0 ft =  0.3\n",
      "Candidate Case ID :  [1, 2, 2, 2, 1, 2, 3, 3] fa_candidate =  0.0 ft_candidate =  0.3\n",
      "Candidate Case ID is not Accepted\n",
      "Current Case ID :  [1, 2, 2, 2, 1, 2, 3, 3] fa =  0.0 ft =  0.3\n",
      "Iter 9\n",
      "Current Case ID :  [1, 2, 2, 2, 1, 2, 3, 3] fa =  0.0 ft =  0.3\n",
      "Candidate Case ID :  [1, 2, 2, 2, 1, 2, 3, 3] fa_candidate =  0.0 ft_candidate =  0.3\n",
      "Candidate Case ID is not Accepted\n",
      "Current Case ID :  [1, 2, 2, 2, 1, 2, 3, 3] fa =  0.0 ft =  0.3\n"
     ]
    }
   ],
   "source": [
    "number_of_iterations = 10\n",
    "for i in range(2, number_of_iterations):\n",
    "    print(\"Iter\", i)\n",
    "    print(\"Current Case ID : \", caseid, \"fa = \", fa, \"ft = \", ft)\n",
    "    \n",
    "    caseid_current = caseid\n",
    "    #caseid_candidate = make_candidate_caseid(event,process_model, caseid_current, iter)\n",
    "    caseid_candidate = make_candidate_caseid(event,process_model, caseid_current, i)\n",
    "\n",
    "    # Make logarray from Case ID\n",
    "    logarray = make_logarray(caseid_candidate)\n",
    "\n",
    "    # Calculate fitnesss scores\n",
    "    fa_candidate = calculate_alignment_fitness(logarray, process_model2)\n",
    "    ft_candidate = calculate_time_fitness(logarray)\n",
    "\n",
    "    print(\"Candidate Case ID : \", caseid_candidate, \"fa_candidate = \", fa_candidate, \"ft_candidate = \", ft_candidate)\n",
    "\n",
    "    # Define Energy Cost Function\n",
    "    if fa_candidate > fa:\n",
    "        fc = fa_candidate - fa\n",
    "    else:\n",
    "        fc = ft_candidate - ft\n",
    "\n",
    "    # metropolis acceptance criterion\n",
    "    #t = iter\n",
    "    t = i\n",
    "    p = np.exp(-fc / t)\n",
    "\n",
    "    random_number = random.uniform(0, 1)\n",
    "\n",
    "    if fa_candidate < fa:\n",
    "        caseid = caseid_candidate\n",
    "        print(\"Candidate Case ID is Accepted since fa_candidate < fa\")\n",
    "    elif fa_candidate == fa:\n",
    "        if ft_candidate < ft or random_number > p:\n",
    "            caseid = caseid_candidate\n",
    "            print(\"Candidate Case ID is Accepted since ft_candidate < ft\")\n",
    "        else:\n",
    "            print(\"Candidate Case ID is not Accepted\")\n",
    "    elif fa_candidate > fa and random_number > p:\n",
    "        caseid = caseid_candidate\n",
    "        print(\"Candidate Case ID Accepted Randomly\")\n",
    "    else:\n",
    "        print(\"Candidate Case ID is not Accepted\")\n",
    "    # Make logarray from Case ID\n",
    "    logarray = make_logarray(caseid)\n",
    "\n",
    "    # Calculate fitnesss scores\n",
    "    fa = calculate_alignment_fitness(logarray, process_model2)\n",
    "    ft = calculate_time_fitness(logarray)\n",
    "    caseid_current = caseid\n",
    "    print(\"Current Case ID : \", caseid, \"fa = \", fa, \"ft = \", ft)\n",
    "    "
   ]
  },
  {
   "cell_type": "code",
   "execution_count": null,
   "metadata": {},
   "outputs": [],
   "source": []
  }
 ],
 "metadata": {
  "kernelspec": {
   "display_name": "Python 3.9.5 64-bit",
   "language": "python",
   "name": "python3"
  },
  "language_info": {
   "codemirror_mode": {
    "name": "ipython",
    "version": 3
   },
   "file_extension": ".py",
   "mimetype": "text/x-python",
   "name": "python",
   "nbconvert_exporter": "python",
   "pygments_lexer": "ipython3",
   "version": "3.9.5"
  },
  "orig_nbformat": 4,
  "vscode": {
   "interpreter": {
    "hash": "aee8b7b246df8f9039afb4144a1f6fd8d2ca17a180786b69acc140d282b71a49"
   }
  }
 },
 "nbformat": 4,
 "nbformat_minor": 2
}
